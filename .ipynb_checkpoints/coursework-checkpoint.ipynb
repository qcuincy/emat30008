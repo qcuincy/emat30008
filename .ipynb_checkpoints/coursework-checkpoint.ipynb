{
 "cells": [
  {
   "cell_type": "markdown",
   "metadata": {},
   "source": [
    "## Scientific Computing Coursework [EMAT30008]"
   ]
  },
  {
   "cell_type": "markdown",
   "metadata": {},
   "source": [
    "## Name: Quincy Sproul"
   ]
  },
  {
   "cell_type": "markdown",
   "metadata": {},
   "source": [
    "## Student no: 2027185"
   ]
  },
  {
   "cell_type": "markdown",
   "metadata": {},
   "source": [
    "## Table of contents"
   ]
  },
  {
   "cell_type": "markdown",
   "metadata": {},
   "source": [
    "  <ul style=\"list-style-type:none\">\n",
    "    <li><a class=\"list-group-item list-group-item-action\" data-toggle=\"list\" href=\"#introduction\" role=\"tab\" aria-controls=\"profile\">1. Introduction</a></li>\n",
    "    <li><a class=\"list-group-item list-group-item-action\" data-toggle=\"list\" href=\"#softSummary\" role=\"tab\" aria-controls=\"profile\">2. Brief Summary of the Software</a></li>\n",
    "    <li><a class=\"list-group-item list-group-item-action\" data-toggle=\"list\" href=\"#designDecisions\" role=\"tab\" aria-controls=\"profile\">3. Key Software Design Decisions</a></li>\n",
    "    <li><a class=\"list-group-item list-group-item-action\" data-toggle=\"list\" href=\"#learningLog\" role=\"tab\" aria-controls=\"profile\">4. Reflective Learning Log</a></li>\n",
    "    <li><a class=\"list-group-item list-group-item-action\" data-toggle=\"list\" href=\"#conclusion\" role=\"tab\" aria-controls=\"profile\">5. Conclusion</a></li>\n",
    "    <li><a class=\"list-group-item list-group-item-action\" data-toggle=\"list\" href=\"#references\" role=\"tab\" aria-controls=\"profile\">6. References</a></li>\n",
    "  </ul>"
   ]
  },
  {
   "cell_type": "markdown",
   "metadata": {},
   "source": [
    "# Introduction"
   ]
  },
  {
   "cell_type": "markdown",
   "metadata": {},
   "source": [
    "Numerical methods are an essential aspect of scientific computing, providing powerful tools to solve mathematical models and simulations that are too complex to solve analytically. Numerical methods are widely used in various fields of engineering, physics, and mathematics to obtain accurate and efficient solutions to a range of problems.\n",
    "\n",
    "The software I have developed as part of my coursework is a general numerical continuation code that can track limit cycle oscillations of arbitrary ordinary differential equations and steady-states of second-order diffusive partial differential equations. The software is designed to be modular, following the DRY principle, and takes the form of a library, providing one or more functions that take the differential equation (either an ODE or PDE) in a suitable form, the parameter values, and a starting guess for the initial variable values (and period of oscillation if appropriate).\n",
    "\n",
    "The overall purpose of this software is to provide a reliable and efficient tool for researchers and practitioners in various fields to solve complex mathematical models and simulations. The software is fully tested against a range of inputs and known outputs, and inputs that do not have a solution are handled gracefully. Additionally, the code is appropriately documented, and examples of running the code for both ODEs and PDEs are provided, with no user input required when running the examples.\n",
    "\n",
    "Throughout the course, we have covered various topics related to numerical methods, such as initial value problems, numerical shooting, code testing, numerical continuation, finite difference methods, the method of lines, implicit methods for linear PDEs, implicit methods for nonlinear PDEs, and sparse linear algebra. The software I have developed takes into account all of these topics and integrates them into a single, powerful tool for solving complex mathematical models and simulations."
   ]
  },
  {
   "cell_type": "markdown",
   "metadata": {},
   "source": [
    "# Brief Summary of the Software (3 pages)"
   ]
  },
  {
   "cell_type": "markdown",
   "metadata": {},
   "source": [
    "## Section 1: Summary of Software"
   ]
  },
  {
   "cell_type": "markdown",
   "metadata": {},
   "source": [
    "\n",
    "The aim of this coursework was to develop a Python package that can solve ordinary and partial differential equations (ODEs and PDEs) with both initial value problems (IVPs) and boundary value problems (BVPs). While existing packages such as `scipy` provide some functionality in this regard, the software has been designed to make the process of finding a solution to differential equations more straightforward and guided by automatically detecting the problem type (ODE vs PDE) based on the function arguments' length and identifying whether it is an IVP or BVP. \n",
    "\n",
    "The main `ProblemSolver` class forms the backbone of the software, with separate `IVP` and `BVP` classes to handle these two types of problems. The `Problem` class is used to set up the problem by defining the differential equation(s) and initial/boundary conditions, as well as any relevant parameters. \n",
    "\n",
    "To solve the problem, the `solve()` method of the `ProblemSolver` class is called, which takes several optional arguments to customize the solver's behavior. The method argument determines the ODE solver method used, while `pde_method` is used to select the numerical method for solving PDEs. The `root_finder` argument selects the algorithm used to find roots in the BVP case, while `discretize_method`, `bc_type`, and `matrix_type` are used to customize the discretization method, boundary conditions, and matrix type for BVPs. \n",
    "\n",
    "The software can handle various types of ODE and PDE problems, including stiff ODEs and systems of equations, as well as nonlinear PDEs. The software has been tested on a range of problems, including several weekly exercises from the labs, and have found that it provides accurate solutions with reasonable computational efficiency."
   ]
  },
  {
   "cell_type": "markdown",
   "metadata": {},
   "source": [
    "## Section 2: Overview of Numerical Software\n",
    "\n",
    "The numerical_methods package is a collection of Python modules for solving a range of differential equations, boundary value problems, and partial differential equations. The package is designed to be user-friendly and versatile, with a focus on providing a ProblemSolver class that can handle a variety of problems by analyzing user arguments. The following is an overview of the capabilities of the software and some examples of how it can be used."
   ]
  },
  {
   "cell_type": "markdown",
   "metadata": {},
   "source": [
    "### 2.1 Ordinary Differential Equations\n",
    "\n",
    "The package provides a range of methods for solving ordinary differential equations (ODEs), including Euler's method, the midpoint method, the Runge-Kutta method, and the Dormand-Prince method. Each of the differential solving methods include appropriate step size controlling functionality to prevent the solution from blowing up. The ProblemSolver class can be used to solve ODEs by providing the differential equation, the initial conditions, and the time points."
   ]
  },
  {
   "cell_type": "markdown",
   "metadata": {},
   "source": [
    "#### 2.1.1 ODE IVP: Solving the classic Van der Pol oscillator problem"
   ]
  },
  {
   "cell_type": "code",
   "execution_count": null,
   "metadata": {},
   "outputs": [],
   "source": [
    "from src import ProblemSolver as ps\n",
    "import numpy as np\n",
    "\n",
    "# Define the function\n",
    "def van_der_pol(t, y, mu):\n",
    "    dydt = [y[1], mu*(1-y[0]**2)*y[1]-y[0]]\n",
    "    return dydt\n",
    "\n",
    "# Initial conditions\n",
    "y0 = np.array([2, 0])\n",
    "\n",
    "# Time points\n",
    "t0, tf = 0, 5\n",
    "Nt = 500\n",
    "\n",
    "# Parameters\n",
    "mu = 1.5\n",
    "\n",
    "# Solve the problem\n",
    "solver = ps(f = van_der_pol, y0 = y0, t0 = t0, tf = tf, Nt=Nt, args=(mu,))\n",
    "solution = solver.solve(method=\"RK45\")\n",
    "\n",
    "# Plot the phase plot\n",
    "solution.plot(phase_plot=True, width=800, height=400, margin=dict(l=50, r=50, b=50, t=50, pad=0))"
   ]
  },
  {
   "cell_type": "markdown",
   "metadata": {},
   "source": [
    "#### 2.1.2 ODE BVP: Solving the Bratu problem using the shooting method"
   ]
  },
  {
   "cell_type": "code",
   "execution_count": null,
   "metadata": {},
   "outputs": [],
   "source": [
    "from src import ProblemSolver as ps\n",
    "import numpy as np\n",
    "\n",
    "# Define the function\n",
    "def bratu(t, y, lmbda):\n",
    "    dydx = [y[1], -lmbda*np.exp(y[0])]\n",
    "    return dydx\n",
    "\n",
    "# Boundary conditions\n",
    "def bc(ya, yb):\n",
    "    return np.array([ya, yb-2])\n",
    "\n",
    "# Initial conditions\n",
    "y0 = np.array([0, 0])\n",
    "\n",
    "# Time points\n",
    "t0 = 0\n",
    "tf = 1\n",
    "Nt = 100\n",
    "\n",
    "# Parameters\n",
    "lmbda = 4.5\n",
    "\n",
    "# Solve the problem\n",
    "solver = ps(f = bratu, y0 = y0, t0 = t0, tf = tf, Nt=Nt, args=(lmbda,), bc=bc)\n",
    "solution, y0_sol = solver.solve(method=\"RK45\")\n",
    "\n",
    "# Plot the solution\n",
    "solution.plot(phase_plot=True, width=800, height=400, margin=dict(l=50, r=50, b=50, t=50, pad=0))"
   ]
  },
  {
   "cell_type": "markdown",
   "metadata": {},
   "source": [
    "#### 2.1.3 ODE Continuation: Computing the bifurcation diagram of the Duffing oscillator (natural vs pseudo-arclength continuation)"
   ]
  },
  {
   "cell_type": "code",
   "execution_count": null,
   "metadata": {},
   "outputs": [],
   "source": [
    "from src import ProblemSolver as ps\n",
    "import numpy as np\n",
    "\n",
    "# Define the function for the Lokta-Volterra model\n",
    "def Lokta_Volterra(t, y, a, b, c, d):\n",
    "    dydt = [a*y[0] - b*y[0]*y[1], c*y[0]*y[1] - d*y[1]]\n",
    "    return dydt\n",
    "\n",
    "# Initial conditions\n",
    "y0 = np.array([3, 1])\n",
    "\n",
    "# Time points\n",
    "t0, tf = 0, 100\n",
    "Nt = 100\n",
    "\n",
    "# Parameters\n",
    "a, b, c, d = 1.5, 1, 3, 1\n",
    "\n",
    "# Solve the problem\n",
    "solver = ps(f = Lokta_Volterra, y0 = y0, t0 = t0, tf = tf, Nt=Nt, args=(a, b, c, d))\n",
    "solution = solver.solve(p_span=[0,10], cont_type=\"natural\", vary_par=0)\n",
    "\n",
    "# Plot the solution\n",
    "# solution.plot(phase_plot=True, width=800, height=400, margin=dict(l=50, r=50, b=50, t=50, pad=0))"
   ]
  },
  {
   "cell_type": "code",
   "execution_count": null,
   "metadata": {},
   "outputs": [],
   "source": [
    "from src import ProblemSolver as ps\n",
    "import numpy as np\n",
    "\n",
    "# Define the function\n",
    "def f(t, y, a, b, c, d):\n",
    "    dydt = [a*y[0] - b*y[0]*y[1], -c*y[1] + d*y[0]*y[1]]\n",
    "    return dydt\n",
    "\n",
    "# Initial conditions\n",
    "y0 = np.array([3, 1])\n",
    "\n",
    "# Time points\n",
    "t0, tf = 0, 100\n",
    "Nt = 200\n",
    "# Parameters\n",
    "a, b, c, d = 1.5, 1, 3, 1\n",
    "\n",
    "# Solve the problem\n",
    "solver = ps(f = f, y0 = y0, t0 = t0, tf = tf, Nt=Nt, args=(a, b, c, d))\n",
    "pseudo_solution, pseudo_y0s = solver.solve(p_span=(0, 3), Ns = 100, vary_par=0, cont_type=\"pseudo\")\n",
    "\n",
    "# Plot the solution\n",
    "pseudo_solution.plot()"
   ]
  },
  {
   "cell_type": "code",
   "execution_count": null,
   "metadata": {},
   "outputs": [],
   "source": [
    "import plotly.express as px\n",
    "import plotly.graph_objects as go\n",
    "import pandas as pd\n",
    "import numpy as np\n",
    "\n",
    "\n",
    "Ns = pseudo_solution.params.shape[0]\n",
    "Nt = pseudo_solution.t.shape[0]\n",
    "# create the figure\n",
    "fig = go.Figure()\n",
    "\n",
    "parameter_values = pseudo_solution.params\n",
    "time_values = pseudo_solution.t\n",
    "solution_values = pseudo_solution.y\n",
    "\n",
    "import matplotlib.cm as cm\n",
    "\n",
    "def make_color_map(parameter_values):\n",
    "    # Normalize parameter values to range [0,1]\n",
    "    normalized_values = (parameter_values - np.min(parameter_values)) / (np.max(parameter_values) - np.min(parameter_values))\n",
    "    # Create color map using jet colormap\n",
    "    color_map = cm.jet(normalized_values)\n",
    "    return color_map\n",
    "\n",
    "color_map = make_color_map(parameter_values)\n",
    "\n",
    "for i in range(Ns):\n",
    "    color = f'rgb({int(color_map[i][0]*255)}, {int(color_map[i][1]*255)}, {int(color_map[i][2]*255)})'\n",
    "    param_val = parameter_values[i]\n",
    "    solution_val = solution_values[:, i]  # assuming solution_values is Nt x Ns\n",
    "    time_val = time_values[:len(solution_val)]\n",
    "    for j in range(solution_val.shape[-1]):\n",
    "        fig.add_trace(go.Scatter(x=time_val, y=solution_val[:, j], name=f\"y{i+1}_{j+1}\"))\n",
    "        # fig.add_trace(go.Scatter(x=time_val, y=solution_val[:, j], name=f\"y{i+1}_{j+1}\", line=dict(color=color, width=2)))\n",
    "        # fig.add_trace(go.Scatter(x=time_val, y=solution_val[:, j], name=f\"y{j+1}\", line=dict(color=color, width=2)))\n",
    "\n",
    "# show the figure\n",
    "\n",
    "fig.show()"
   ]
  },
  {
   "cell_type": "code",
   "execution_count": null,
   "metadata": {},
   "outputs": [],
   "source": [
    "solution_values.shape"
   ]
  },
  {
   "cell_type": "code",
   "execution_count": null,
   "metadata": {},
   "outputs": [],
   "source": [
    "import matplotlib.pyplot as plt\n",
    "Ns = pseudo_solution.params.shape[0]\n",
    "Nt = pseudo_solution.t.shape[0]\n",
    "\n",
    "parameter_values = pseudo_solution.params\n",
    "time_values = pseudo_solution.t\n",
    "solution_values = pseudo_solution.y\n",
    "\n",
    "fig = plt.figure(figsize=(10, 10))\n",
    "\n",
    "for i in range(Ns):\n",
    "    param_val = parameter_values[i]\n",
    "    solution_val = solution_values[:, i]  # assuming solution_values is Nt x Ns\n",
    "    plt.plot(time_values[:len(solution_val)], solution_val, label=f\"y0 = {param_val}\")\n",
    "\n",
    "plt.xlabel(\"t\")\n",
    "plt.ylabel(\"y\")\n",
    "plt.tight_layout()\n",
    "plt.show()\n"
   ]
  },
  {
   "cell_type": "code",
   "execution_count": null,
   "metadata": {},
   "outputs": [],
   "source": [
    "import numpy as np\n",
    "import matplotlib.pyplot as plt\n",
    "\n",
    "# Extract step sizes for natural continuation method\n",
    "s_natural = np.diff(natural_solution.params)\n",
    "s_natural = np.concatenate(([s_natural[0]], s_natural))\n",
    "\n",
    "# Extract step sizes for pseudo continuation method\n",
    "s_pseudo = np.sqrt(np.sum(np.diff(pseudo_solution.y, axis=0)**2, axis=(1, 2)))\n",
    "s_pseudo = np.concatenate(([s_pseudo[0]], s_pseudo))\n",
    "\n",
    "# Plot step sizes as a function of the continuation parameter\n",
    "fig, ax = plt.subplots()\n",
    "ax.plot(natural_solution.params, s_natural, 'b--', label='Natural')\n",
    "ax.plot(pseudo_solution.params, s_pseudo, 'r-', label='Pseudo')\n",
    "ax.set_xlabel('Continuation Parameter')\n",
    "ax.set_ylabel('Step Size')\n",
    "ax.legend()\n",
    "\n",
    "# Show plot\n",
    "plt.show()\n"
   ]
  },
  {
   "cell_type": "code",
   "execution_count": null,
   "metadata": {},
   "outputs": [],
   "source": [
    "y_pseudo = solution.y\n",
    "t_pseudo = solution.t"
   ]
  },
  {
   "cell_type": "code",
   "execution_count": null,
   "metadata": {},
   "outputs": [],
   "source": [
    "from src import ProblemSolver as ps\n",
    "import numpy as np\n",
    "\n",
    "# Define the function\n",
    "def f(t, y, a, b, c, d):\n",
    "    dydt = [a*y[0] - b*y[0]*y[1], -c*y[1] + d*y[0]*y[1]]\n",
    "    return dydt\n",
    "\n",
    "# Initial conditions\n",
    "y0 = np.array([3, 1])\n",
    "\n",
    "# Time points\n",
    "t0, tf = 0, 100\n",
    "Nt = 10\n",
    "\n",
    "# Parameters\n",
    "a, b, c, d = 1.5, 1, 3, 1\n",
    "\n",
    "# Solve the problem\n",
    "solver = ps(f = f, y0 = y0, t0 = t0, tf = tf, Nt=Nt, args=(a, b, c, d))\n",
    "solution, y0_sol = solver.solve(p_span=(0, 3), Ns = 10, vary_par=0, cont_type=\"pseudo\", output=True)\n",
    "\n",
    "# Plot the solution\n",
    "solution.plot()"
   ]
  },
  {
   "cell_type": "code",
   "execution_count": null,
   "metadata": {},
   "outputs": [],
   "source": [
    "solution.y"
   ]
  },
  {
   "cell_type": "markdown",
   "metadata": {},
   "source": [
    "### 2.2 Boundary Value Problems\n",
    "\n",
    "The package also provides methods for solving boundary value problems (BVPs), including shooting methods. The ProblemSolver class can be used to solve BVPs by providing the differential equation, the boundary conditions, and the initial guess for the solution. For example, the following code solves the BVP y'' = -y, y(0) = 1, y(1) = 2 using a shooting method:"
   ]
  },
  {
   "cell_type": "code",
   "execution_count": null,
   "metadata": {},
   "outputs": [],
   "source": [
    "from src import ProblemSolver as ps\n",
    "\n",
    "def f(t, y):\n",
    "    return [y[1], -y[0]]\n",
    "\n",
    "def bc(ya, yb):\n",
    "    return [ya-1, yb-2]\n",
    "\n",
    "solver = ps(f=f, y0=[1, 0], t0=0, tf=1, bc=bc, method='shoot')\n",
    "solution, y0_sol = solver.solve()\n",
    "\n",
    "solution.plot(phase_plot=True, width=800, height=400)"
   ]
  },
  {
   "cell_type": "markdown",
   "metadata": {},
   "source": [
    "### 2.3 Partial Differential Equations\n",
    "\n",
    "The package provides methods for solving partial differential equations (PDEs) using finite difference methods, including explicit and implicit methods, Crank-Nicolson method, and method of lines. The ProblemSolver class can be used to solve PDEs by providing the differential equation, the initial conditions, the boundary conditions, and the domain. For example, the following code solves the heat equation u_t = u_xx on the domain [0, 1] x [0, 1] with initial condition u(x, 0) = sin(pi*x) using the Crank-Nicolson method:"
   ]
  },
  {
   "cell_type": "code",
   "execution_count": null,
   "metadata": {},
   "outputs": [],
   "source": [
    "from src import ProblemSolver\n",
    "import numpy as np\n",
    "\n",
    "def q(x, t, u):\n",
    "    return 1\n",
    "\n",
    "def ic(x):\n",
    "    return np.sin(np.pi*x)\n",
    "\n",
    "def bc(ya, yb, t):\n",
    "    return [ya, yb]\n",
    "\n",
    "solver = ProblemSolver(q=q, ic=ic, t0=0, tf=1, a=0, b=1, Nx=100, Nt=100, bc=bc, C=0.5, pde_method='cranknicolson')\n",
    "solution = solver.solve()\n",
    "\n",
    "solution.plot(width=600, height=400)"
   ]
  },
  {
   "cell_type": "markdown",
   "metadata": {},
   "source": [
    "\n",
    "```\n",
    "\n",
    "Overall, the numerical_methods package provides a range of numerical methods for solving differential equations, boundary value problems, and partial differential equations. The ProblemSolver class allows users to easily specify their problem and obtain a solution using a variety of methods."
   ]
  },
  {
   "cell_type": "markdown",
   "metadata": {},
   "source": [
    "3. The ProblemSolver Class\n",
    "\n",
    "The ProblemSolver class is the main class in the numerical_methods software package. It is a powerful class that is designed to handle everything by analyzing the user's arguments. The class can handle both ODEs and PDEs, and it can solve a wide range of problems with different boundary conditions.\n",
    "\n",
    "The ProblemSolver class accepts keyword arguments as inputs. For ODE problems, the class accepts the differential equation f, the initial value y0, the initial time t0, the final time tf, the number of time steps or the time step dt, and the boundary condition bc. For PDE problems, the class accepts the differential equation q, the initial condition ic, the initial time t0, the final time tf, the number of time steps or the time step dt, the left boundary of the domain a, the right boundary of the domain b, the number of grid points or the grid spacing dx, the diffusion coefficient D or the Courant number C, and the boundary condition bc.\n",
    "\n",
    "The ProblemSolver class uses the specified numerical method to solve the problem. The class has several numerical methods implemented, including Euler, Improved Euler, Midpoint, ODEStep, Runge-Kutta 4, Runge-Kutta 45, Crank-Nicolson, Explicit Euler, Finite Difference, Implicit Euler, and Method of Lines. The class automatically selects the most appropriate method based on the problem's characteristics, such as stiffness, accuracy, and stability. The class can also solve problems with multiple solutions, such as boundary value problems, using the shooting method or the continuation method.\n",
    "\n",
    "Here is an example of how to use the ProblemSolver class to solve an ODE problem:"
   ]
  },
  {
   "cell_type": "code",
   "execution_count": null,
   "metadata": {},
   "outputs": [],
   "source": [
    "from src import ProblemSolver as ps\n",
    "\n",
    "def f(t, y):\n",
    "    return -y\n",
    "\n",
    "solver = ps(f=f, y0=1, t0=0, tf=1, dt=0.1)\n",
    "solution = solver.solve()\n",
    "solution.plot()"
   ]
  },
  {
   "cell_type": "markdown",
   "metadata": {},
   "source": [
    "\n",
    "In this example, we define the differential equation f as `-y`, and we set the initial value to 1, the initial time to 0, the final time to 10, and the time step to 0.1. We create a ProblemSolver object called `solver`, passing in the arguments as keyword arguments. We then call the `solve` method to solve the problem, and we store the solution in the `solution` variable. Finally, we call the `plot` method to plot the solution.\n",
    "\n",
    "Here is an example of how to use the ProblemSolver class to solve a PDE problem:"
   ]
  },
  {
   "cell_type": "code",
   "execution_count": null,
   "metadata": {},
   "outputs": [],
   "source": [
    "from src import ProblemSolver as ps\n",
    "\n",
    "def q(x, t, u):\n",
    "    return u - 2 * D * (u - 1)\n",
    "\n",
    "def ic(x):\n",
    "    return x * (1 - x)\n",
    "\n",
    "a = 0\n",
    "b = 1\n",
    "t0 = 0\n",
    "tf = 0.5\n",
    "Nx = 100\n",
    "dx = (b - a) / Nx\n",
    "Nt = 100\n",
    "dt = (tf - t0) / Nt\n",
    "D = 0.01\n",
    "\n",
    "solver = ps(q=q, ic=ic, t0=t0, tf=tf, dt=dt, a=a, b=b, dx=dx, D=D)\n",
    "solution = solver.solve()\n",
    "\n",
    "solution.plot(width=600, height=400)"
   ]
  },
  {
   "cell_type": "markdown",
   "metadata": {},
   "source": [
    "\n",
    "\n",
    "In this example, we define the differential equation q as `u - 2 * D * (u - 1)` and the initial condition ic as `x * (1 - x)`. We set the left boundary of the domain to 0, the right boundary of the domain to 1, the initial time to 0, the final time to "
   ]
  },
  {
   "cell_type": "code",
   "execution_count": null,
   "metadata": {},
   "outputs": [],
   "source": []
  },
  {
   "cell_type": "code",
   "execution_count": null,
   "metadata": {},
   "outputs": [],
   "source": [
    "from src import ProblemSolver as ps\n",
    "from src.examples import *\n",
    "\n",
    "# Initial conditions\n",
    "y0 = np.array([0.1, 0.1, 0.1])\n",
    "\n",
    "# Time points\n",
    "t0, tf = 0, 20\n",
    "Nt = 1000\n",
    "\n",
    "# Parameters\n",
    "example = Lorenz()\n",
    "\n",
    "# Solve the problem\n",
    "solver = ps(f = example.ode, y0 = y0, t0 = t0, tf = tf, Nt=Nt, args=(example.a, example.b, example.c))\n",
    "solution = solver.solve()\n",
    "\n",
    "# Plot the solution\n",
    "solution.plot(width=800, height=400, phase_plot=True)"
   ]
  },
  {
   "cell_type": "code",
   "execution_count": null,
   "metadata": {},
   "outputs": [],
   "source": [
    "solver.problem"
   ]
  },
  {
   "cell_type": "code",
   "execution_count": null,
   "metadata": {},
   "outputs": [],
   "source": [
    "# Example BVP for the 1D Poisson equation with signature Poisson_1D(x, y, a, b, c, d) with boundary conditions y(0) = 0 and y(1) = 0\n",
    "from src import ProblemSolver as ps\n",
    "from src.examples import *\n",
    "\n",
    "def Poisson_1D(t, y, a, b, c, d):\n",
    "    \"\"\"\n",
    "    Poisson equation (1D) BVP.\n",
    "\n",
    "    Args:\n",
    "        x (float): The current value of x.\n",
    "        y (float): The current value of y.\n",
    "        a (float): The parameter for the Poisson equation.\n",
    "        b (float): The parameter for the Poisson equation.\n",
    "        c (float): The parameter for the Poisson equation.\n",
    "        d (float): The parameter for the Poisson equation.\n",
    "\n",
    "    Returns:\n",
    "        array: The value of dx/dt, dy/dt, and dz/dt.\n",
    "    \"\"\"\n",
    "    x, y = y\n",
    "\n",
    "    dydt = a*x**3 + b*x**2 + c*x + d\n",
    "\n",
    "    return np.array([dydt])\n",
    "\n",
    "# Initial conditions\n",
    "y0 = np.array([0.1, 0.1])\n",
    "\n",
    "# Time points\n",
    "t0, tf = 0, 20\n",
    "Nt = 1000\n",
    "\n",
    "# Parameters\n",
    "a, b, c, d = 1, 1, 1, 1\n",
    "\n",
    "def bc(ya, yb):\n",
    "    \"\"\"\n",
    "    Boundary conditions.\n",
    "\n",
    "    Args:\n",
    "        ya (float): The value of y at the left boundary.\n",
    "        yb (float): The value of y at the right boundary.\n",
    "\n",
    "    Returns:\n",
    "        array: The value of y at the left and right boundary.\n",
    "    \"\"\"\n",
    "    return np.array([ya, yb])\n",
    "\n",
    "# Solve the problem\n",
    "solution, y0_sol = ps(f = Poisson_1D, y0 = y0, t0 = t0, tf = tf, Nt=Nt, args=(a, b, c, d), bc=bc).solve()\n",
    "\n",
    "# Plot the solution\n",
    "solution.plot()\n"
   ]
  },
  {
   "cell_type": "code",
   "execution_count": null,
   "metadata": {},
   "outputs": [],
   "source": [
    "# Example for # Cubic 3D equations (PDE) with signature Cubic_3D(t, y, u, a, b, c)\n",
    "\n",
    "from src import ProblemSolver as ps\n",
    "from src.examples import *\n",
    "\n",
    "# Initial conditions\n",
    "def ic(x):\n",
    "    \"\"\"\n",
    "    Initial conditions.\n",
    "\n",
    "    Args:\n",
    "        x (float): The current value of x.\n",
    "\n",
    "    Returns:\n",
    "        array: The value of y at the initial condition.\n",
    "    \"\"\"\n",
    "    return np.ones_like(x)*0.1\n",
    "\n",
    "# Time points\n",
    "t0, tf = 0, 20\n",
    "Nt = 1000\n",
    "\n",
    "# Spatial points\n",
    "x0, xf = 0, 1\n",
    "Nx = 100\n",
    "\n",
    "# Parameters\n",
    "a, b, c = 1, 1, 1\n",
    "\n",
    "# Solve the problem\n",
    "solution = ps(q = Cubic_3D, ic = ic, t0 = t0, tf = tf, Nt=Nt, a=x0, b=xf, Nx=Nt, C=0.5, args=(a, b, c)).solve()\n",
    "\n",
    "# Plot the solution\n",
    "solution.plot()"
   ]
  },
  {
   "cell_type": "markdown",
   "metadata": {},
   "source": [
    "\n",
    "```\n",
    "\n",
    "This code defines an IVP problem with the function `f(t, y) = -y + t + 1`, an initial condition of `y(0) = 1`, and a time span of `[0, 1]`. The `solve()` method is then called with no arguments, which defaults to using the `RK45` ODE solver method. The resulting solution is printed to the console.\n",
    "\n",
    "In the next section, we will provide more detailed information on the methods implemented in our software and some examples of how they work."
   ]
  },
  {
   "cell_type": "markdown",
   "metadata": {},
   "source": [
    "# Key Software Design Decisions (4 pages)"
   ]
  },
  {
   "cell_type": "markdown",
   "metadata": {},
   "source": [
    "### 3.1 Object-Oriented Design\n",
    "\n",
    "The numerical_methods package is designed using an object-oriented approach. The main class in the package is the `ProblemSolver` class, which is designed to handle everything by analyzing the user's arguments. The class can handle both ODEs and PDEs, and it can solve a wide range of problems with different boundary conditions. The class has several numerical methods implemented, including Euler, Improved Euler, Midpoint, ODEStep, Runge-Kutta 4, Runge-Kutta 45, Crank-Nicolson, Explicit Euler, Finite Difference, Implicit Euler, and Method of Lines. The class automatically selects the most appropriate method based on the problem's characteristics, such as the type of problem (IVP or BVP) and the type of differential (ODE or PDE). The class can also solve problems with multiple solutions, such as boundary value problems, using the shooting method or the continuation method.\n",
    "\n",
    "The other two significant classes are the `Solver` class and `Problem` class, these handle the numerical methods and the problem definitions respectively. The `Solver` class is a base class that is inherited by the `IVP` and `BVP` classes. The `Problem` class is a base class that not only defines the problem, but handles all the problem parameters and will raise errors accordingly."
   ]
  },
  {
   "cell_type": "markdown",
   "metadata": {},
   "source": [
    "#### 3.1.1 ProblemSolver Class\n",
    "\n",
    "- **Composition to build up solutions to complex problems from simpler solutions.** \n",
    "\n",
    "    The `ProblemSolver` class has two subclasses, IVP and BVP, which solve initial value problems and boundary value problems, respectively. When the class is instantiated, it creates an IVP or BVP object depending on the type of problem that is being solved. The class then delegates the actual solution of the problem to the IVP or BVP object. This design decision makes it easy to add new types of problems to the ProblemSolver class, since only a new subclass of IVP or BVP needs to be created.\n",
    "\n",
    "    The use of composition makes it easy to add new types of problems to the `ProblemSolver` class. For example, if a new type of problem is added, only a new subclass of IVP or BVP needs to be created. The class does not need to be modified.\n",
    "\n",
    "- **It uses a keyword argument system to allow users to customize the solution of the problem.**\n",
    "    \n",
    "    The `ProblemSolver` class takes a number of keyword arguments, which can be used to customize the solution of the problem. For example, the user can specify the method to be used to solve the problem, the type of discretization to be used, and the boundary conditions. This design decision makes it easy for users to control the accuracy and efficiency of the solution.\n",
    "\n",
    "    The use of a keyword argument system makes it easy for users to customize the solution of the problem. For example, the user can specify the method to be used to solve the problem, the type of discretization to be used, and the boundary conditions. This design decision makes it easy for users to control the accuracy and efficiency of the solution."
   ]
  },
  {
   "cell_type": "markdown",
   "metadata": {},
   "source": [
    "#### 3.1.2 Solver Class\n",
    "\n",
    "- **Flexibility and Robustness**\n",
    "\n",
    "To ensure that the `Solver` class is flexible and robust, I made several key design decisions. Firstly, I chose to make the `Solver` class an abstract base class, providing an interface for defining subclasses that can be instantiated and used to solve various types of mathematical problems, including IVPs and BVPs. \n",
    "\n",
    "To achieve this flexibility, I stored all the attributes of the problem object in the `Solver` class, including the function `f` or `q`, initial or boundary conditions, time or spatial discretization parameters, and the method to solve the problem. I also ensured that the class could handle different types of input functions and arguments, including functions that take multiple arguments.\n",
    "\n",
    "To maintain correctness and consistency of the input parameters, I included a series of checks and validations to ensure that the user provides the appropriate input. This included checking if the input problem object is of type `Problem` and if the chosen method to solve the problem is valid. Additionally, I made sure that the root-finding method, if applicable, is valid.\n",
    "\n",
    "- **Multiple Solver Types**\n",
    "\n",
    "In order to provide flexibility in solving PDEs, I decided to include different types of PDE solvers, such as finite difference, finite element, and spectral methods. Furthermore, to handle continuation methods for solving BVPs, I implemented a method for handling continuation parameters. \n",
    "\n",
    "Through these design decisions, I aimed to create a powerful and versatile tool for solving a wide range of mathematical problems. The resulting `Solver` class provides flexibility and robustness while accommodating various input types and multiple solver types."
   ]
  },
  {
   "cell_type": "markdown",
   "metadata": {},
   "source": [
    "#### 3.1.4 Problem Class"
   ]
  },
  {
   "cell_type": "markdown",
   "metadata": {},
   "source": []
  },
  {
   "cell_type": "markdown",
   "metadata": {},
   "source": [
    "# Reflective Learning Log (3 pages)"
   ]
  },
  {
   "cell_type": "markdown",
   "metadata": {},
   "source": [
    "# Conclusion (1 page)"
   ]
  },
  {
   "cell_type": "markdown",
   "metadata": {},
   "source": [
    "# References"
   ]
  }
 ],
 "metadata": {
  "kernelspec": {
   "display_name": "Python 3 (ipykernel)",
   "language": "python",
   "name": "python3"
  },
  "language_info": {
   "codemirror_mode": {
    "name": "ipython",
    "version": 3
   },
   "file_extension": ".py",
   "mimetype": "text/x-python",
   "name": "python",
   "nbconvert_exporter": "python",
   "pygments_lexer": "ipython3",
   "version": "3.9.13"
  },
  "toc": {
   "base_numbering": 1,
   "nav_menu": {
    "height": "267px",
    "width": "811px"
   },
   "number_sections": true,
   "sideBar": true,
   "skip_h1_title": true,
   "title_cell": "Table of Contents",
   "title_sidebar": "Contents",
   "toc_cell": false,
   "toc_position": {},
   "toc_section_display": true,
   "toc_window_display": false
  }
 },
 "nbformat": 4,
 "nbformat_minor": 2
}
